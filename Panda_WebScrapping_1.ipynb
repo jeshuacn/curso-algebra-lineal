{
  "nbformat": 4,
  "nbformat_minor": 0,
  "metadata": {
    "colab": {
      "name": "Panda_WebScrapping_1.ipynb",
      "provenance": [],
      "include_colab_link": true
    },
    "kernelspec": {
      "name": "python3",
      "display_name": "Python 3"
    },
    "language_info": {
      "name": "python"
    }
  },
  "cells": [
    {
      "cell_type": "markdown",
      "metadata": {
        "id": "view-in-github",
        "colab_type": "text"
      },
      "source": [
        "<a href=\"https://colab.research.google.com/github/jeshuacn/curso-algebra-lineal/blob/master/Panda_WebScrapping_1.ipynb\" target=\"_parent\"><img src=\"https://colab.research.google.com/assets/colab-badge.svg\" alt=\"Open In Colab\"/></a>"
      ]
    },
    {
      "cell_type": "markdown",
      "metadata": {
        "id": "wQ8a0lWLtaOb"
      },
      "source": [
        "Analizar el cambio de moneda de la página: https://www.banreservas.com/calculators/divisas"
      ]
    },
    {
      "cell_type": "code",
      "metadata": {
        "id": "txAmKp4RtSZK"
      },
      "source": [
        "import requests\n",
        "page = requests.get('https://www.banreservas.com/calculators/divisas')\n",
        "page2 = requests.get('https://coronavirusrd.gob.do/')\n",
        "\n",
        "from bs4 import BeautifulSoup as bs\n",
        "\n",
        "soup, covid_st = bs(page.text), bs(page2.text)"
      ],
      "execution_count": null,
      "outputs": []
    },
    {
      "cell_type": "markdown",
      "metadata": {
        "id": "gcuNDm_gt6Jt"
      },
      "source": [
        "Ya importados los elementos iniciar la búsqueda"
      ]
    },
    {
      "cell_type": "code",
      "metadata": {
        "colab": {
          "base_uri": "https://localhost:8080/"
        },
        "id": "gX95nSdxuCGr",
        "outputId": "55dc0231-7515-4694-bcba-291872eb95ca"
      },
      "source": [
        "# print(soup.select('div[class*=\"form-label\"]'))\n",
        "\n",
        "for EachPart in soup.select('div[class*=\"form-label\"]'):\n",
        "    print (EachPart.get_text())"
      ],
      "execution_count": null,
      "outputs": [
        {
          "output_type": "stream",
          "name": "stdout",
          "text": [
            "Compramos\n",
            "US$ 1.00 = RD$ 55.20\n",
            "Vendemos\n",
            "US$ 1.00 = RD$ 56.85\n"
          ]
        }
      ]
    },
    {
      "cell_type": "markdown",
      "metadata": {
        "id": "FcPP8wLH3Vvj"
      },
      "source": [
        "Analicemos ahora el tema sanitario actual en RD"
      ]
    },
    {
      "cell_type": "code",
      "metadata": {
        "colab": {
          "base_uri": "https://localhost:8080/"
        },
        "id": "btIrED-H3d14",
        "outputId": "9ba2edf1-21a5-476b-af8a-60a223582e05"
      },
      "source": [
        "confirmados = covid_st.find_all('div',class_=\"casos__resultados_item\")\n",
        "for item in confirmados:\n",
        "  titulo = item.find_all('span',class_='titulo')\n",
        "  resultado = item.find_all('span',class_='numero')\n",
        "  for t in titulo:\n",
        "    print (t.string)  \n",
        "  for n in resultado:\n",
        "    print (n.string)  "
      ],
      "execution_count": null,
      "outputs": [
        {
          "output_type": "stream",
          "name": "stdout",
          "text": [
            "Casos confirmados\n",
            "362,103\n",
            "Recuperados\n",
            "351,334\n",
            "Personas fallecidas\n",
            "4056\n"
          ]
        }
      ]
    },
    {
      "cell_type": "markdown",
      "metadata": {
        "id": "fNCfqC33-NIc"
      },
      "source": [
        "Ahora uniendo los conceptos veamos este ejemplo\n"
      ]
    },
    {
      "cell_type": "code",
      "metadata": {
        "colab": {
          "base_uri": "https://localhost:8080/"
        },
        "id": "HL1opQrd-TKu",
        "outputId": "a19777dd-f91e-4f72-a083-2525cf9ff993"
      },
      "source": [
        "import pandas as pd\n",
        "import requests\n",
        "from bs4 import BeautifulSoup\n",
        "from tabulate import tabulate\n",
        "\n",
        "res = requests.get(\"http://www.nationmaster.com/country-info/stats/Media/Internet-users\")\n",
        "soup = BeautifulSoup(res.content,'lxml')\n",
        "# print(soup)\n",
        "table = soup.find_all('table')[0] \n",
        "df = pd.read_html(str(table)) # Me está generando una lista a partir del un dataframe, por eso no se puede manejar con data frame\n",
        "print(tabulate(df[0][:5], headers='keys', tablefmt='psql'))"
      ],
      "execution_count": null,
      "outputs": [
        {
          "output_type": "stream",
          "name": "stdout",
          "text": [
            "+----+-----+---------------------------------------------+---------------+--------+---------+-----------+\n",
            "|    |   # | COUNTRY                                     | AMOUNT        |   DATE |   GRAPH |   HISTORY |\n",
            "|----+-----+---------------------------------------------+---------------+--------+---------+-----------|\n",
            "|  0 |   1 | China                                       | 389 million   |   2009 |     nan |       nan |\n",
            "|  1 |   2 | United States                               | 245 million   |   2009 |     nan |       nan |\n",
            "|  2 |   3 | Japan                                       | 99.18 million |   2009 |     nan |       nan |\n",
            "|  3 | nan | Group of 7 countries (G7) average (profile) | 80.32 million |   2009 |     nan |       nan |\n",
            "|  4 |   4 | Brazil                                      | 75.98 million |   2009 |     nan |       nan |\n",
            "+----+-----+---------------------------------------------+---------------+--------+---------+-----------+\n"
          ]
        }
      ]
    },
    {
      "cell_type": "code",
      "metadata": {
        "colab": {
          "base_uri": "https://localhost:8080/",
          "height": 203
        },
        "id": "rtFJE6N0knkf",
        "outputId": "df14d8cc-90dc-4a2b-9fdf-74fff91f4118"
      },
      "source": [
        "pd.DataFrame(df[0]).head()"
      ],
      "execution_count": null,
      "outputs": [
        {
          "output_type": "execute_result",
          "data": {
            "text/html": [
              "<div>\n",
              "<style scoped>\n",
              "    .dataframe tbody tr th:only-of-type {\n",
              "        vertical-align: middle;\n",
              "    }\n",
              "\n",
              "    .dataframe tbody tr th {\n",
              "        vertical-align: top;\n",
              "    }\n",
              "\n",
              "    .dataframe thead th {\n",
              "        text-align: right;\n",
              "    }\n",
              "</style>\n",
              "<table border=\"1\" class=\"dataframe\">\n",
              "  <thead>\n",
              "    <tr style=\"text-align: right;\">\n",
              "      <th></th>\n",
              "      <th>#</th>\n",
              "      <th>COUNTRY</th>\n",
              "      <th>AMOUNT</th>\n",
              "      <th>DATE</th>\n",
              "      <th>GRAPH</th>\n",
              "      <th>HISTORY</th>\n",
              "    </tr>\n",
              "  </thead>\n",
              "  <tbody>\n",
              "    <tr>\n",
              "      <th>0</th>\n",
              "      <td>1</td>\n",
              "      <td>China</td>\n",
              "      <td>389 million</td>\n",
              "      <td>2009</td>\n",
              "      <td>NaN</td>\n",
              "      <td>NaN</td>\n",
              "    </tr>\n",
              "    <tr>\n",
              "      <th>1</th>\n",
              "      <td>2</td>\n",
              "      <td>United States</td>\n",
              "      <td>245 million</td>\n",
              "      <td>2009</td>\n",
              "      <td>NaN</td>\n",
              "      <td>NaN</td>\n",
              "    </tr>\n",
              "    <tr>\n",
              "      <th>2</th>\n",
              "      <td>3</td>\n",
              "      <td>Japan</td>\n",
              "      <td>99.18 million</td>\n",
              "      <td>2009</td>\n",
              "      <td>NaN</td>\n",
              "      <td>NaN</td>\n",
              "    </tr>\n",
              "    <tr>\n",
              "      <th>3</th>\n",
              "      <td>NaN</td>\n",
              "      <td>Group of 7 countries (G7) average (profile)</td>\n",
              "      <td>80.32 million</td>\n",
              "      <td>2009</td>\n",
              "      <td>NaN</td>\n",
              "      <td>NaN</td>\n",
              "    </tr>\n",
              "    <tr>\n",
              "      <th>4</th>\n",
              "      <td>4</td>\n",
              "      <td>Brazil</td>\n",
              "      <td>75.98 million</td>\n",
              "      <td>2009</td>\n",
              "      <td>NaN</td>\n",
              "      <td>NaN</td>\n",
              "    </tr>\n",
              "  </tbody>\n",
              "</table>\n",
              "</div>"
            ],
            "text/plain": [
              "     #                                      COUNTRY  ... GRAPH  HISTORY\n",
              "0    1                                        China  ...   NaN      NaN\n",
              "1    2                                United States  ...   NaN      NaN\n",
              "2    3                                        Japan  ...   NaN      NaN\n",
              "3  NaN  Group of 7 countries (G7) average (profile)  ...   NaN      NaN\n",
              "4    4                                       Brazil  ...   NaN      NaN\n",
              "\n",
              "[5 rows x 6 columns]"
            ]
          },
          "metadata": {},
          "execution_count": 5
        }
      ]
    },
    {
      "cell_type": "code",
      "metadata": {
        "colab": {
          "base_uri": "https://localhost:8080/",
          "height": 127
        },
        "id": "j3DblKoSrevM",
        "outputId": "e8cc9110-2e5f-48ff-ecda-8193997a0118"
      },
      "source": [
        "# Filtrar contenido según el país se que quiera mostrar\n",
        "pais = input('Nombre en Inglés del país que se desea mostrar:')\n",
        "df[0][df[0]['COUNTRY'].str.contains(pais.title())] # Modificador del texto para adaptar al nombre fuente"
      ],
      "execution_count": null,
      "outputs": [
        {
          "name": "stdout",
          "output_type": "stream",
          "text": [
            "Nombre en Inglés del país que se desea mostrar:Austr\n"
          ]
        },
        {
          "output_type": "execute_result",
          "data": {
            "text/html": [
              "<div>\n",
              "<style scoped>\n",
              "    .dataframe tbody tr th:only-of-type {\n",
              "        vertical-align: middle;\n",
              "    }\n",
              "\n",
              "    .dataframe tbody tr th {\n",
              "        vertical-align: top;\n",
              "    }\n",
              "\n",
              "    .dataframe thead th {\n",
              "        text-align: right;\n",
              "    }\n",
              "</style>\n",
              "<table border=\"1\" class=\"dataframe\">\n",
              "  <thead>\n",
              "    <tr style=\"text-align: right;\">\n",
              "      <th></th>\n",
              "      <th>#</th>\n",
              "      <th>COUNTRY</th>\n",
              "      <th>AMOUNT</th>\n",
              "      <th>DATE</th>\n",
              "      <th>GRAPH</th>\n",
              "      <th>HISTORY</th>\n",
              "    </tr>\n",
              "  </thead>\n",
              "  <tbody>\n",
              "    <tr>\n",
              "      <th>32</th>\n",
              "      <td>25</td>\n",
              "      <td>Australia</td>\n",
              "      <td>15.81 million</td>\n",
              "      <td>2009</td>\n",
              "      <td>NaN</td>\n",
              "      <td>NaN</td>\n",
              "    </tr>\n",
              "    <tr>\n",
              "      <th>60</th>\n",
              "      <td>42</td>\n",
              "      <td>Austria</td>\n",
              "      <td>6.14 million</td>\n",
              "      <td>2010</td>\n",
              "      <td>NaN</td>\n",
              "      <td>NaN</td>\n",
              "    </tr>\n",
              "  </tbody>\n",
              "</table>\n",
              "</div>"
            ],
            "text/plain": [
              "     #    COUNTRY         AMOUNT  DATE  GRAPH  HISTORY\n",
              "32  25  Australia  15.81 million  2009    NaN      NaN\n",
              "60  42    Austria   6.14 million  2010    NaN      NaN"
            ]
          },
          "metadata": {},
          "execution_count": 6
        }
      ]
    }
  ]
}