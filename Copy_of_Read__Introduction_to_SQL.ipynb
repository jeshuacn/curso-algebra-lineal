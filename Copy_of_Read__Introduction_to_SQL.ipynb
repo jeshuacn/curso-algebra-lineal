{
  "nbformat": 4,
  "nbformat_minor": 0,
  "metadata": {
    "colab": {
      "name": "Copy of Read_ Introduction to SQL.ipynb",
      "provenance": [],
      "collapsed_sections": [],
      "toc_visible": true,
      "include_colab_link": true
    },
    "kernelspec": {
      "name": "python3",
      "display_name": "Python 3"
    }
  },
  "cells": [
    {
      "cell_type": "markdown",
      "metadata": {
        "id": "view-in-github",
        "colab_type": "text"
      },
      "source": [
        "<a href=\"https://colab.research.google.com/github/jeshuacn/curso-algebra-lineal/blob/master/Copy_of_Read__Introduction_to_SQL.ipynb\" target=\"_parent\"><img src=\"https://colab.research.google.com/assets/colab-badge.svg\" alt=\"Open In Colab\"/></a>"
      ]
    },
    {
      "cell_type": "markdown",
      "metadata": {
        "id": "yUCHa5YiIv3w"
      },
      "source": [
        "# Introduction\n",
        " \n",
        "SQL stands for Structured Query Language, which is an ANSI ( American National Standards Institute ) standard language. Relational Database System uses SQL for storing, manipulating, and retrieving data stored in a relational database.\n",
        "\n",
        "SQL is the standard database language for Relational Database Management Systems (RDMS), such as MySQL, MS Access, Oracle, Sybase, Informix, Postgres, and SQL Server. RDMS are using different version like:\n",
        "- MS SQL Server using T-SQL\n",
        "- Oracle using PL/SQL\n",
        "- MS Access version of SQL is called JET SQL\n",
        "\n",
        "## **SQL Process**\n",
        "\n",
        "In RDBMS, the system determines the most efficient path to carry out the SQL command request, and SQL engine finds how to interpret the task.\n",
        "\n",
        "### SQL Process Architecture\n",
        "\n",
        "\n",
        "![SQL Process Architecture](https://drive.google.com/uc?export=view&id=1a7e5wcJ6zjuIdhjOp-3CWVLXV3LHexx7)\n",
        "\n",
        "Figure: Overview of SQL Processing\n",
        "\n",
        "### Different Stages of SQL Processing\n",
        "![SQL Process Architecture](https://drive.google.com/uc?export=view&id=1qH4A2Qj902fq76vpYporDSjSXgaUqUeK)\n",
        "\n",
        "Figure: Stages of SQL Processing"
      ]
    },
    {
      "cell_type": "markdown",
      "metadata": {
        "id": "Z0UR3kX-JZCp"
      },
      "source": [
        "### SQL Parsing\n",
        "The parsing stage involves separating the pieces of a SQL statement into a data structure that other routines can process. When an application issues a SQL statement, the application makes a parse call to the database to prepare the statement for execution. The parse call creates a **cursor**, which is a handle for the session-specific **private SQL area** that holds a parsed SQL statement and other processing information.\n",
        "\n",
        "During parse call, the database performs the following checks:\n",
        "- **Syntax Check**: A statement that breaks a rule for well-formed SQL syntax fails the check.\n",
        "- **Semantic Check**: It determines whether a statement is meaningful or not.\n",
        "- **Shared Pool Check**: It determines whether it can skip resource-intensive steps of statement processing.\n",
        "\n",
        "*Hard parse: The operation where the database cannot reuse existing code, then it must build a new executable version of the application code.\n",
        "\n",
        "*Soft parse: The process, also called library cache hit, which reuses the existing code when the submitted statement is the same as a reusable SQL statement in the shared pool.\n",
        "\n",
        "### SQL Optimization\n",
        "The database must perform a hard parse at least once for every unique DML statement and performs the optimization during this parse. The **row source generator** is software that receives the optimal execution plan from the optimizer and produces an iterative execution plan that is usable by the rest of the database.\n",
        "\n",
        "The iterative plan is a binary program that, when executed by the SQL engine, produces the result set. The plan takes the form of a combination of steps. Each step returns a row set. The next step either uses the rows in this set, or the last step returns the rows to the application issuing the SQL statement.\n",
        "\n",
        "### SQL Execution\n",
        "\n",
        "The SQL engine executes each row source in the tree produced by the row source generator. This step is the only mandatory step in DML processing. Each step in an execution plan has an ID number. Initial spaces in the Operation column of the plan indicate hierarchical relationships. For example, if two spaces precede the name of an operation, then this operation is a child of an operation preceded by one space. "
      ]
    },
    {
      "cell_type": "markdown",
      "metadata": {
        "id": "i55A41pOMttW"
      },
      "source": [
        "## **Several parts of SQL language**\n",
        "###  **Data Definition Language:** \n",
        "The subset of SQL commands that modify the actual structure of a database, rather than the database's contents. The most important DDL statements in SQL are:\n",
        "* CREATE - creates a new database table\n",
        "* ALTER  - alters (changes) a database table\n",
        "* DROP   - deletes a database table\n",
        "\n",
        "\n",
        "### **Data Manipulation Language:** \n",
        "Those SQL commands that change the contents of a database in some form. The most important DML statements in SQL are:\n",
        "* SELECT - extracts data from a database table\n",
        "* UPDATE - updates data in a database table\n",
        "* DELETE - deletes data from a database table\n",
        "* INSERT INTO - inserts new data into a database table\n",
        "\n",
        "\n",
        "### **Data Control Language (DCL):**\n",
        "DCL manages user access to the database. It consists of two commands:\n",
        "* GRANT – Gives user's access privileges to database\n",
        "* REVOKE – Withdraws user's access privileges to database given with the GRANT command"
      ]
    },
    {
      "cell_type": "markdown",
      "metadata": {
        "id": "tbX0p3uIV5LN"
      },
      "source": [
        "### **Fuse AI Database**\n",
        "\n",
        "\n",
        "![FuseAI Database](https://drive.google.com/uc?export=view&id=1u-sN7Rcxmf0ea0gEWw5GVMZW4XglZqqJ)"
      ]
    },
    {
      "cell_type": "markdown",
      "metadata": {
        "id": "5MZK733LCyKi"
      },
      "source": [
        "## **Some Terminologies**\n",
        "\n",
        "### **SQL Constraint**\n",
        "Constraints are the rules enforced on the data columns of a table. These limit the type of data that can go into a table. As a result, it ensures the accuracy and reliability of the data in the database.\n",
        "Constraints could be either on a **column level** or a **table level**. The column level constraints are applied only to one column, whereas the table level constraints are applied to the whole table.\n",
        "\n",
        "### **Dropping Constraints**\n",
        "These define the constraints that can be dropped using the ALTER TABLE command with the DROP CONSTRAINT option. It is one of the table-level constraints.\n",
        "\n",
        "### **Integrity Constraints**\n",
        "Integrity constraints ensure that changes made to the database by authorized users do not result in loss of data consistency. For example: NOT NULL, PRIMARY KEY(Attribute1, Attribute2, ..., AttributeN), FOREIGN KEY(Attribute1, Attribute2, ..., AttributeN) references. It is one of the column level constraints.\n",
        "\n",
        "### **Types of Integrity constraints**\n",
        "![Types of Integrity constraints](https://drive.google.com/uc?export=view&id=1D0Ve306_UfiQxSugPNfkGN5JSTQxYTAs)\n",
        "\n",
        "Figure: Types of Integrity constraints\n",
        "\n",
        "#### **Domain Constraints**\n",
        "A domain of possible values must be associated with every attribute in the database. Declaring an attribute of a particular domain acts as a restraint on the values it can take. The system easily tests them. For instance, you cannot set an integer value to \"user_name\".The data type of domain includes string, character, integer, time, date, currency, etc. The value of the attribute must be available in the corresponding domain.\n",
        "\n",
        "#### **Data Integrity**\n",
        "We need to make sure that the data present in the database is correct and consistent. This is known as data integrity. For relational databases, there are entity integrity and referential integrity rules which help to make sure that we have data integrity.\n",
        "\n",
        "#### **Entity Integrity**\n",
        "The entity integrity rule applies to Primary Keys. The entity integrity rule says that the value of a Primary Key in a table must be unique, and it can never have any value (null). Operations on the database which insert new data, update existing data or delete data must follow this rule.\n",
        "\n",
        "#### **Referential Integrity Constraints**\n",
        "A referential integrity constraint is specified between two tables, where if a foreign key in Table 1 refers to the Primary Key of Table 2, then every value of the Foreign Key in Table 1 must be null or be available in Table 2.\n",
        "\n",
        "#### **Key constraints**\n",
        "Keys are the entity set that identifies an entity within its entity set uniquely, and it can have multiple keys, but out of which one key is the primary key. A primary key can contain a unique and null value in the relational table."
      ]
    },
    {
      "cell_type": "markdown",
      "metadata": {
        "id": "ckn_o5xiM0du"
      },
      "source": [
        "## **Data Definition Language**\n",
        "Data Definition Language Commands allow the user to define, delete, and modify relations, which includes specifying the schema for each relation, the domain of value associated with each attribute, integrity constraints, and other information related to relationships.\n",
        "\n",
        "\n",
        "> Domain Types in SQL\n",
        "\n",
        "<table>\n",
        "<thead>\n",
        "<tr>\n",
        "<th>Domain Type</th>\n",
        "<th>Description</th>\n",
        "</tr>\n",
        "</thead>\n",
        "<tbody>\n",
        "<tr>\n",
        "<td>Char (n)</td>\n",
        "<td>Fixed length character string, with user-specified length n.</td>\n",
        "</tr>\n",
        "<tr>\n",
        "<td>Varchar(n)</td>\n",
        "<td>Variable length character strings, with user-specified maximum length n.</td>\n",
        "</tr>\n",
        "<tr>\n",
        "<td>int</td>\n",
        "<td>Integer</td>\n",
        "</tr>\n",
        "<tr>\n",
        "<td>Numeric (p,d)</td>\n",
        "<td>Fixed point number, with user-specified precision of p digits, with n digits to the right of decimal point. <br/>\n",
        "Example: numeric(4,2) allows 44.77 to be stored exactly, but not 447.7 or 0.47)</td>\n",
        "</tr>\n",
        "<tr>\n",
        "<td>Float (n)</td>\n",
        "<td>Floating point number, with user-specified precision of at least n digits.</td>\n",
        "</tr>\n",
        "<tr>\n",
        "<td>timestamp</td>\n",
        "<td>Date plus time of day. <br/> Eg. Example: timestamp NOW()</td>\n",
        "</tr>\n",
        "</tbody>\n",
        "</table>\n"
      ]
    },
    {
      "cell_type": "code",
      "metadata": {
        "id": "nwcN73t-RxgR"
      },
      "source": [
        "%load_ext sql"
      ],
      "execution_count": null,
      "outputs": []
    },
    {
      "cell_type": "code",
      "metadata": {
        "colab": {
          "base_uri": "https://localhost:8080/",
          "height": 37
        },
        "id": "Uz4Zscg1PYqx",
        "outputId": "3db04160-c3c7-4021-d5f7-e8c1a38ce9af"
      },
      "source": [
        "%sql sqlite://"
      ],
      "execution_count": null,
      "outputs": [
        {
          "output_type": "execute_result",
          "data": {
            "application/vnd.google.colaboratory.intrinsic+json": {
              "type": "string"
            },
            "text/plain": [
              "'Connected: @None'"
            ]
          },
          "metadata": {},
          "execution_count": 4
        }
      ]
    },
    {
      "cell_type": "markdown",
      "metadata": {
        "id": "hBNiqrAAN18r"
      },
      "source": [
        "### **Create Table Construct**\n",
        "\n",
        "The **create table** command can be used to create tables in SQL. The **create table** command is defined as:\n",
        "```\n",
        "create table <relation_name>(\n",
        "\t<attribute_name>\t<data_type>\t<integrity_constraint>\n",
        "\t<attribute_name>\t<data_type>\t<integrity_constraint>\n",
        "\t<attribute_name>\t<data_type>\t<integrity_constraint>\n",
        "\t<integrity_constraint>\n",
        ");\n",
        "```"
      ]
    },
    {
      "cell_type": "markdown",
      "metadata": {
        "id": "4HsStuOWN-88"
      },
      "source": [
        "> Example: Create student and course table\n",
        "\n",
        "```\n",
        "CREATE TABLE student(\n",
        "\t    student_id      INT NOT NULL PRIMARY KEY auto_increment,\n",
        "    \tstudent_name    VARCHAR(50) NOT NULL,\n",
        "    \tstudent_email   VARCHAR(50),\n",
        "    \tstudent_contact VARCHAR(15),\n",
        "    \tdate_joined     TIMESTAMP DEFAULT NOW()\n",
        ");\n",
        "\n",
        "CREATE TABLE course(\n",
        "\t    course_id       INT NOT NULL PRIMARY KEY auto_increment,\n",
        "    \tcourse_name     VARCHAR(50) NOT NULL,\n",
        "    \tcourse_length   INT\n",
        ");\n",
        "```"
      ]
    },
    {
      "cell_type": "code",
      "metadata": {
        "colab": {
          "base_uri": "https://localhost:8080/"
        },
        "id": "IpBpnyoWPnHF",
        "outputId": "17f9f7a7-5a58-4d48-e844-fdede0f2873e"
      },
      "source": [
        "%%sql\n",
        "CREATE TABLE student(\n",
        "        student_id      INTEGER NOT NULL PRIMARY KEY AUTOINCREMENT,\n",
        "        student_name    VARCHAR(50) NOT NULL,\n",
        "        student_email   VARCHAR(50),\n",
        "        student_contact VARCHAR(15)\n",
        ");\n",
        "\n",
        "CREATE TABLE course(\n",
        "        course_id       INTEGER NOT NULL PRIMARY KEY AUTOINCREMENT,\n",
        "        course_name     VARCHAR(50) NOT NULL,\n",
        "        course_length   INT\n",
        ");"
      ],
      "execution_count": null,
      "outputs": [
        {
          "output_type": "stream",
          "name": "stdout",
          "text": [
            " * sqlite://\n",
            "Done.\n",
            "Done.\n"
          ]
        },
        {
          "output_type": "execute_result",
          "data": {
            "text/plain": [
              "[]"
            ]
          },
          "metadata": {},
          "execution_count": 7
        }
      ]
    },
    {
      "cell_type": "markdown",
      "metadata": {
        "id": "Aq-LQwj0Obiv"
      },
      "source": [
        "\n",
        "\n",
        "\n",
        "> Example: Create Enrollment Pivot Table\n",
        "\n",
        "```\n",
        "CREATE TABLE enrollment(\n",
        "    student_id  INT,\n",
        "    course_id   INT,\n",
        "    FOREIGN KEY(student_id) REFERENCES student(student_id) ON DELETE CASCADE ON UPDATE CASCADE,\n",
        "    FOREIGN KEY(course_id) REFERENCES course(course_id) ON DELETE CASCADE ON UPDATE CASCADE\n",
        ");\n",
        "```\n",
        "\n",
        "> Example: Create Module table\n",
        "\n",
        "```\n",
        "CREATE TABLE module(\n",
        "    course_id \tINT,\n",
        "    module_num \tINT,\n",
        "    module_name VARCHAR(50) NOT NULL,\n",
        "    PRIMARY KEY(course_id,module_num),\n",
        "    FOREIGN KEY(course_id) REFERENCES course(course_id) ON DELETE CASCADE ON UPDATE CASCADE\n",
        ");\n",
        "```"
      ]
    },
    {
      "cell_type": "code",
      "metadata": {
        "colab": {
          "base_uri": "https://localhost:8080/"
        },
        "id": "gK2FBUliQn-h",
        "outputId": "9b30c42b-cee9-4213-ab9a-8f421e854903"
      },
      "source": [
        "%%sql\n",
        "CREATE TABLE enrollment(\n",
        "    student_id  INTEGER,\n",
        "    course_id   INTEGER,\n",
        "    FOREIGN KEY(student_id) REFERENCES student(student_id) ON DELETE CASCADE ON UPDATE CASCADE,\n",
        "    FOREIGN KEY(course_id) REFERENCES course(course_id) ON DELETE CASCADE ON UPDATE CASCADE\n",
        ");\n",
        "\n",
        "CREATE TABLE module(\n",
        "    course_id     INTEGER,\n",
        "    module_num     INTEGER,\n",
        "    module_name VARCHAR(50) NOT NULL,\n",
        "    PRIMARY KEY(course_id,module_num),\n",
        "    FOREIGN KEY(course_id) REFERENCES course(course_id) ON DELETE CASCADE ON UPDATE CASCADE\n",
        ");"
      ],
      "execution_count": null,
      "outputs": [
        {
          "output_type": "stream",
          "name": "stdout",
          "text": [
            " * sqlite://\n",
            "Done.\n",
            "Done.\n"
          ]
        },
        {
          "output_type": "execute_result",
          "data": {
            "text/plain": [
              "[]"
            ]
          },
          "metadata": {},
          "execution_count": 8
        }
      ]
    },
    {
      "cell_type": "markdown",
      "metadata": {
        "id": "2juFIP-kVN2i"
      },
      "source": [
        "### **Drop and Alter Table Constructs**\n",
        "The **drop table** command deletes all information about the dropped relation from the database.\n",
        "The alter table command is used to alter attributes/domain/constraint to an existing relation.\n",
        "\n",
        "* To Drop table <br/>\n",
        "`Drop table <table_name>`\n",
        "\n",
        "* To remove all tuples from the table but keep the table <br/>\n",
        "`Delete from <table_name>`\n",
        "\n",
        "* To add attributes in table<br/>\n",
        "`Alter table <table_name> add <attribute_name> <data_type>`<br/>\n",
        "> Example: `ALTER TABLE course ADD course_difficulty VARCHAR(10)`\n",
        "\n",
        "* To drop attributes from table<br/>\n",
        "`Alter table <table_name> Drop column <attribute_name>`\n",
        "\n",
        "* To change the data type of a column in a table<br/>\n",
        "`ALTER TABLE <table_name> ALTER COLUMN <column_name> datatype(size)`\n",
        "\n",
        "* To Add constraint in table<br/>\n",
        "`Alter table <table name> Add constraint <constraint name> <constraint type> <column_name>`\n",
        "\n",
        "### Insert into table\n",
        "`Insert into <table_name> Values('val1','val2',...,'valn')`\n",
        "\n",
        "> Example: To insert some values in student and course table:\n",
        "\n",
        "```\n",
        "INSERT INTO student (student_name, student_email)\n",
        "VALUES \n",
        "('John Doe', 'john@fusemachines.com'),\n",
        "('Dummy Person', 'dummy@fusemachines.com');\n",
        "\n",
        "INSERT INTO course (course_name,course_length)\n",
        "VALUES \n",
        "('Fundamentals of Computer Science',3),\n",
        "('Fundamentals of Mathematics',3),\n",
        "('Machine Learning',3),\n",
        "('Deep Learning',3),\n",
        "('Computer Vision',3),\n",
        "('Natural Language Processing',3);\n",
        "```"
      ]
    },
    {
      "cell_type": "code",
      "metadata": {
        "colab": {
          "base_uri": "https://localhost:8080/"
        },
        "id": "goZQ54waQ4zt",
        "outputId": "401dd90c-a78f-4db4-91cc-246edeeeed75"
      },
      "source": [
        "%%sql\n",
        "INSERT INTO student (student_name, student_email)\n",
        "VALUES \n",
        "('John Doe', 'john@fusemachines.com'),\n",
        "('Dummy Person', 'dummy@fusemachines.com');\n",
        "\n",
        "INSERT INTO course (course_name,course_length)\n",
        "VALUES \n",
        "('Fundamentals of Computer Science',3),\n",
        "('Fundamentals of Mathematics',3),\n",
        "('Machine Learning',3),\n",
        "('Deep Learning',3),\n",
        "('Computer Vision',3),\n",
        "('Natural Language Processing',3);"
      ],
      "execution_count": null,
      "outputs": [
        {
          "output_type": "stream",
          "name": "stdout",
          "text": [
            " * sqlite://\n",
            "2 rows affected.\n",
            "6 rows affected.\n"
          ]
        },
        {
          "output_type": "execute_result",
          "data": {
            "text/plain": [
              "[]"
            ]
          },
          "metadata": {},
          "execution_count": 9
        }
      ]
    },
    {
      "cell_type": "markdown",
      "metadata": {
        "id": "ZixbY0vjX-gq"
      },
      "source": [
        "## **Data Manipulation language (DML)**\n",
        "### **SELECT Statement**\n",
        "The SELECT statement selects data from a table. The result of the SELECT query is also a table(called the result-set). To select all columns from the table, use a * symbol instead of column names. However, there might be duplicate entries because SQL allows duplicates in relations as well as query results. Using the DISTINCT keyword, we can access distinct (different) values.\n",
        "#### Syntax:\n",
        "```\n",
        " SELECT \"column_name\" FROM \"table_name\"\n",
        " SELECT * FROM \"table_name\"\n",
        " SELECT DISTINCT \"column_name\" FROM \"table_name\"\n",
        "```"
      ]
    },
    {
      "cell_type": "markdown",
      "metadata": {
        "id": "nYF9reGfhZVH"
      },
      "source": [
        "## **SELECT Statement Examples**\n",
        "\n",
        "```\n",
        "# Select all tuples from course relation\n",
        "# An Asterisk(*) in the select clause denotes all attributes\n",
        "\n",
        "sql> SELECT * FROM course;\n",
        "```\n",
        "| course_id | course_name | course_length|\t\n",
        "| - | - | - |\n",
        "| 1 |\tFundamentals of Computer Science | 3\t|\n",
        "| 2\t| Fundamentals of Mathematics |\t4\t\n",
        "| 3\t| Machine Learning |\t5\t\n",
        "| 4\t| Deep Learning |\t5\t\n",
        "| 5\t| Computer Vision |\t5\t\n",
        "| 6\t| Natural Language Processing\t| 5\t\n",
        "\n"
      ]
    },
    {
      "cell_type": "code",
      "metadata": {
        "colab": {
          "base_uri": "https://localhost:8080/",
          "height": 200
        },
        "id": "gifqZ9-vRCw-",
        "outputId": "76845f68-c498-4afa-f3a9-3b4595c4cff7"
      },
      "source": [
        "%sql  SELECT * FROM course;"
      ],
      "execution_count": null,
      "outputs": [
        {
          "output_type": "stream",
          "name": "stdout",
          "text": [
            " * sqlite://\n",
            "Done.\n"
          ]
        },
        {
          "output_type": "execute_result",
          "data": {
            "text/html": [
              "<table>\n",
              "    <thead>\n",
              "        <tr>\n",
              "            <th>course_id</th>\n",
              "            <th>course_name</th>\n",
              "            <th>course_length</th>\n",
              "        </tr>\n",
              "    </thead>\n",
              "    <tbody>\n",
              "        <tr>\n",
              "            <td>1</td>\n",
              "            <td>Fundamentals of Computer Science</td>\n",
              "            <td>3</td>\n",
              "        </tr>\n",
              "        <tr>\n",
              "            <td>2</td>\n",
              "            <td>Fundamentals of Mathematics</td>\n",
              "            <td>3</td>\n",
              "        </tr>\n",
              "        <tr>\n",
              "            <td>3</td>\n",
              "            <td>Machine Learning</td>\n",
              "            <td>3</td>\n",
              "        </tr>\n",
              "        <tr>\n",
              "            <td>4</td>\n",
              "            <td>Deep Learning</td>\n",
              "            <td>3</td>\n",
              "        </tr>\n",
              "        <tr>\n",
              "            <td>5</td>\n",
              "            <td>Computer Vision</td>\n",
              "            <td>3</td>\n",
              "        </tr>\n",
              "        <tr>\n",
              "            <td>6</td>\n",
              "            <td>Natural Language Processing</td>\n",
              "            <td>3</td>\n",
              "        </tr>\n",
              "    </tbody>\n",
              "</table>"
            ],
            "text/plain": [
              "[(1, 'Fundamentals of Computer Science', 3),\n",
              " (2, 'Fundamentals of Mathematics', 3),\n",
              " (3, 'Machine Learning', 3),\n",
              " (4, 'Deep Learning', 3),\n",
              " (5, 'Computer Vision', 3),\n",
              " (6, 'Natural Language Processing', 3)]"
            ]
          },
          "metadata": {},
          "execution_count": 12
        }
      ]
    },
    {
      "cell_type": "markdown",
      "metadata": {
        "id": "VksADZmNHnOv"
      },
      "source": [
        "```\n",
        "# Select all tuples form module where course_id = 1\n",
        "\n",
        "sql> SELECT * FROM module WHERE course_id = 1;\n",
        "```\n",
        "\n",
        "| course_id |\tmodule_num | module_name |\n",
        "| - | - | - |\n",
        "| 1 |\t1 |\tIntroduction to the Course |\n",
        "| 1\t| 2\t| Basics of Computer Systems |\t\n",
        "| 1\t| 3\t| Python Programming |\n",
        "| 1\t| 4\t| Data Structures and Algorithms |\t\n",
        "| 1\t| 5\t| Database |\t\n",
        "| 1\t| 6\t| Building Applications |\t\n"
      ]
    },
    {
      "cell_type": "markdown",
      "metadata": {
        "id": "Rw8ZfO6nJv4m"
      },
      "source": [
        "```\n",
        "# Select all tuples from a unit of course_id = 1 and module_num = 2\n",
        "\n",
        "sql> SELECT * FROM unit WHERE course_id = 1 AND module_num = 2\n",
        "```\n",
        "\n",
        "| course_id | module_num | unit_num | unit_name | time_allotted | \n",
        "| - | - | - | - | - |\n",
        "| 1 | 2\t| 1\t| Introduction to the Module | 0 |\n",
        "| 1\t| 2\t| 2\t| Digital Information & Digital Logic\t| 1.25 |\t\n",
        "| 1\t| 2\t| 3\t| Basics Computer Architecture\t| 2 |\t\n",
        "| 1\t| 2\t| 4\t| Basics of Linux Operating System\t| 1.5 |\t\n",
        "| 1\t| 2\t| 5\t| Basics of Computer Networks\t| 1.5\t|\n",
        "| 1\t| 2\t| 6\t| Module Summary\t| 0\t|\n"
      ]
    },
    {
      "cell_type": "markdown",
      "metadata": {
        "id": "S5hkMrF8KXU1"
      },
      "source": [
        "```\n",
        "# Select only unit name and time allotted for a unit of first course second module\n",
        "sql> SELECT unit_name, time_allotted FROM unit WHERE course_id = 1 AND module_num = 2;\n",
        "```\n",
        "\n",
        "| unit_name | time_allotted\t| \n",
        "| - | - |\n",
        "| Introduction to the Module | 0 | \n",
        "| Digital Information & Digital Logic | 1.25 | \n",
        "| Basics Computer Architecture\t| 2\t| \n",
        "| Basics of Linux Operating System\t| 1.5\t| \n",
        "| Basics of Computer Networks\t| 1.5\t| \n",
        "| Module Summary\t| 0\t| \n"
      ]
    },
    {
      "cell_type": "markdown",
      "metadata": {
        "id": "rB9gp2TsK9Lt"
      },
      "source": [
        "```\n",
        "# Display name  of courses whose course length is between 3 to 4 months\n",
        "\n",
        "sql> SELECT course_name FROM course WHERE course_length BETWEEN 3 AND 4\n",
        "```\n",
        "\n",
        "| course_name |\n",
        "| - |\t\n",
        "| Fundamentals of Computer Science |\t\n",
        "| Fundamentals of Mathematics\t|\n"
      ]
    },
    {
      "cell_type": "markdown",
      "metadata": {
        "id": "F9OJdnbdLMQs"
      },
      "source": [
        "```\n",
        "# A select clause can contain arithmetic expression involving +,-,*,/ operations \n",
        "# can rename using 'as' clause(alias)\n",
        "\n",
        "sql> SELECT course_name, course_length*4 AS course_length_in_weeks FROM course\n",
        "```\n",
        "\n",
        "| course_name\t| course_length_in_weeks | \n",
        "| - | - |\n",
        "| Fundamentals of Computer Science\t| 12 | \t\n",
        "| Fundamentals of Mathematics\t| 16 | \n",
        "| Machine Learning\t| 20 | \n",
        "| Deep Learning\t| 20 | \n",
        "| Computer Vision\t| 20 | \t\n",
        "| Natural Language Processing\t| 20 | \n"
      ]
    },
    {
      "cell_type": "markdown",
      "metadata": {
        "id": "3daefFkQLhaq"
      },
      "source": [
        "```\n",
        "# List out the assignment names of all the assignments that have high weightage(greater than 100 marks)\n",
        "\n",
        "sql> SELECT * FROM assignment WHERE assignment_marks > 100\n",
        "```\n",
        "\n",
        "| course_id\t| module_num\t| unit_num\t| assignment_name\t| assignment_marks | \n",
        "| - | - | - | - | - |\n",
        "| 2\t| 2\t| 7\t| Eigen Faces\t| 110 | \t\n",
        "| 2\t| 3\t| 7\t| N/A\t| 110\t| \n"
      ]
    },
    {
      "cell_type": "markdown",
      "metadata": {
        "id": "b_PjNPaeLhoR"
      },
      "source": [
        "```\n",
        "# List out all project with their respective module name\n",
        "\n",
        "sql> SELECT module_name, project_title FROM  module, project WHERE\n",
        "(module.course_id, module.module_num) = (project.course_id, project.module_num)\n",
        "```\n",
        "\n",
        "| module_name\t| project_title\t| \n",
        "| - | - |\n",
        "| Introduction to the Course\t| None | \t\n",
        "| Linear Algebra\t| 3D Reconstruction\t| \n",
        "| Calculus\t| Shape Optimization\t| \n"
      ]
    },
    {
      "cell_type": "markdown",
      "metadata": {
        "id": "vBG677G0MkcA"
      },
      "source": [
        "SQL includes a string matching operator for comparisions on character string.\n",
        "* percent(%) character matches and substring\n",
        "* underscore(_) matches any character\n",
        "\n",
        "```\n",
        "# Find the name of all courses that are Fundamental(have Fundamental in their name)\n",
        "\n",
        "sql> SELECT * FROM course WHERE course_name LIKE '%Fundamental%'\n",
        "```\n",
        "\n",
        "| course_id\t| course_name\t| course_length\t| \n",
        "| - | - | - | \n",
        "|  1\t| Fundamentals of Computer Science\t| 3\t| \n",
        "| 2\t| Fundamentals of Mathematics\t| 4\t| \n"
      ]
    },
    {
      "cell_type": "markdown",
      "metadata": {
        "id": "0hyn-58wWB1g"
      },
      "source": [
        "```\n",
        "# Students of fusemachines from Nepal have country domain .np in their email id. For Example: buddha@fusemachines.com.np\n",
        "# List down all the students from Nepal.\n",
        "\n",
        "sql> SELECT * FROM student WHERE student_email LIKE '%.np%'\n",
        "```\n",
        "\n",
        "| student_id | student_name | student_email | student_contact | date_joined | \n",
        "| - | - | - | - | - | \t\n",
        "| 4\t| Harka Bahadur\t| harke@fusemachines.com.np | NULL | 2019-11-13 10:29:15 | \t\n",
        "| 5\t| Ful Kumari | fulkumari@fusemachines.com.np | NULL | 2019-11-13 10:29:15\t| \n",
        "| 7\t| Bir Kaji Sherchan\t| birkaji@fusemachines.com.np\t| NULL | 2019-11-13 10:29:15 | \n",
        "| 8\t| Maiya Gauchan\t| maiya@fusemachines.com.np\t| NULL | 2019-11-13 10:29:15 | \n"
      ]
    },
    {
      "cell_type": "markdown",
      "metadata": {
        "id": "mngTHuR8WBvX"
      },
      "source": [
        "> Ordering the display of tuples:\n",
        "* Optionally, specify ASC for Ascending order\n",
        "* Specify DESC for Descending order \n",
        "\n",
        "```\n",
        "# List in alphabetic order the name of all students\n",
        "\n",
        "sql> SELECT student_name FROM student ORDER BY student_name\n",
        "```\n",
        "\n",
        "| student_name | \n",
        "| - | \t\n",
        "| Alison Burgers\t| \n",
        "| Bir Kaji Sherchan\t| \n",
        "| Chulbul Pandey | \t\n",
        "| Dummy Person | \t\n",
        "| Ful Kumari | \t\n",
        "| Harka Bahadur | \t\n",
        "| John Doe | \n",
        "| Maiya Gauchan | \t\n"
      ]
    }
  ]
}